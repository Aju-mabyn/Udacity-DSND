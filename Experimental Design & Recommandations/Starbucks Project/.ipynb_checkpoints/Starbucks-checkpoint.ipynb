{
 "cells": [
  {
   "cell_type": "markdown",
   "metadata": {},
   "source": [
    "## Portfolio Exercise: Starbucks\n",
    "<br>\n",
    "\n",
    "<img src=\"https://opj.ca/wp-content/uploads/2018/02/New-Starbucks-Logo-1200x969.jpg\" width=\"200\" height=\"200\">\n",
    "<br>\n",
    "<br>\n",
    " \n",
    "#### Background Information\n",
    "\n",
    "The dataset you will be provided in this portfolio exercise was originally used as a take-home assignment provided by Starbucks for their job candidates. The data for this exercise consists of about 120,000 data points split in a 2:1 ratio among training and test files. In the experiment simulated by the data, an advertising promotion was tested to see if it would bring more customers to purchase a specific product priced at $10. Since it costs the company 0.15 to send out each promotion, it would be best to limit that promotion only to those that are most receptive to the promotion. Each data point includes one column indicating whether or not an individual was sent a promotion for the product, and one column indicating whether or not that individual eventually purchased that product. Each individual also has seven additional features associated with them, which are provided abstractly as V1-V7.\n",
    "\n",
    "#### Optimization Strategy\n",
    "\n",
    "Your task is to use the training data to understand what patterns in V1-V7 to indicate that a promotion should be provided to a user. Specifically, your goal is to maximize the following metrics:\n",
    "\n",
    "* **Incremental Response Rate (IRR)** \n",
    "\n",
    "IRR depicts how many more customers purchased the product with the promotion, as compared to if they didn't receive the promotion. Mathematically, it's the ratio of the number of purchasers in the promotion group to the total number of customers in the purchasers group (_treatment_) minus the ratio of the number of purchasers in the non-promotional group to the total number of customers in the non-promotional group (_control_).\n",
    "\n",
    "$$ IRR = \\frac{purch_{treat}}{cust_{treat}} - \\frac{purch_{ctrl}}{cust_{ctrl}} $$\n",
    "\n",
    "\n",
    "* **Net Incremental Revenue (NIR)**\n",
    "\n",
    "NIR depicts how much is made (or lost) by sending out the promotion. Mathematically, this is 10 times the total number of purchasers that received the promotion minus 0.15 times the number of promotions sent out, minus 10 times the number of purchasers who were not given the promotion.\n",
    "\n",
    "$$ NIR = (10\\cdot purch_{treat} - 0.15 \\cdot cust_{treat}) - 10 \\cdot purch_{ctrl}$$\n",
    "\n",
    "For a full description of what Starbucks provides to candidates see the [instructions available here](https://drive.google.com/open?id=18klca9Sef1Rs6q8DW4l7o349r8B70qXM).\n",
    "\n",
    "Below you can find the training data provided.  Explore the data and different optimization strategies.\n",
    "\n",
    "#### How To Test Your Strategy?\n",
    "\n",
    "When you feel like you have an optimization strategy, complete the `promotion_strategy` function to pass to the `test_results` function.  \n",
    "From past data, we know there are four possible outomes:\n",
    "\n",
    "Table of actual promotion vs. predicted promotion customers:  \n",
    "\n",
    "<table>\n",
    "<tr><th></th><th colspan = '2'>Actual</th></tr>\n",
    "<tr><th>Predicted</th><th>Yes</th><th>No</th></tr>\n",
    "<tr><th>Yes</th><td>I</td><td>II</td></tr>\n",
    "<tr><th>No</th><td>III</td><td>IV</td></tr>\n",
    "</table>\n",
    "\n",
    "The metrics are only being compared for the individuals we predict should obtain the promotion – that is, quadrants I and II.  Since the first set of individuals that receive the promotion (in the training set) receive it randomly, we can expect that quadrants I and II will have approximately equivalent participants.  \n",
    "\n",
    "Comparing quadrant I to II then gives an idea of how well your promotion strategy will work in the future. \n",
    "\n",
    "Get started by reading in the data below.  See how each variable or combination of variables along with a promotion influences the chance of purchasing.  When you feel like you have a strategy for who should receive a promotion, test your strategy against the test dataset used in the final `test_results` function."
   ]
  },
  {
   "cell_type": "code",
   "execution_count": 58,
   "metadata": {},
   "outputs": [
    {
     "data": {
      "text/html": [
       "<div>\n",
       "<style scoped>\n",
       "    .dataframe tbody tr th:only-of-type {\n",
       "        vertical-align: middle;\n",
       "    }\n",
       "\n",
       "    .dataframe tbody tr th {\n",
       "        vertical-align: top;\n",
       "    }\n",
       "\n",
       "    .dataframe thead th {\n",
       "        text-align: right;\n",
       "    }\n",
       "</style>\n",
       "<table border=\"1\" class=\"dataframe\">\n",
       "  <thead>\n",
       "    <tr style=\"text-align: right;\">\n",
       "      <th></th>\n",
       "      <th>ID</th>\n",
       "      <th>Promotion</th>\n",
       "      <th>purchase</th>\n",
       "      <th>V1</th>\n",
       "      <th>V2</th>\n",
       "      <th>V3</th>\n",
       "      <th>V4</th>\n",
       "      <th>V5</th>\n",
       "      <th>V6</th>\n",
       "      <th>V7</th>\n",
       "    </tr>\n",
       "  </thead>\n",
       "  <tbody>\n",
       "    <tr>\n",
       "      <th>0</th>\n",
       "      <td>1</td>\n",
       "      <td>No</td>\n",
       "      <td>0</td>\n",
       "      <td>2</td>\n",
       "      <td>30.443518</td>\n",
       "      <td>-1.165083</td>\n",
       "      <td>1</td>\n",
       "      <td>1</td>\n",
       "      <td>3</td>\n",
       "      <td>2</td>\n",
       "    </tr>\n",
       "    <tr>\n",
       "      <th>1</th>\n",
       "      <td>3</td>\n",
       "      <td>No</td>\n",
       "      <td>0</td>\n",
       "      <td>3</td>\n",
       "      <td>32.159350</td>\n",
       "      <td>-0.645617</td>\n",
       "      <td>2</td>\n",
       "      <td>3</td>\n",
       "      <td>2</td>\n",
       "      <td>2</td>\n",
       "    </tr>\n",
       "    <tr>\n",
       "      <th>2</th>\n",
       "      <td>4</td>\n",
       "      <td>No</td>\n",
       "      <td>0</td>\n",
       "      <td>2</td>\n",
       "      <td>30.431659</td>\n",
       "      <td>0.133583</td>\n",
       "      <td>1</td>\n",
       "      <td>1</td>\n",
       "      <td>4</td>\n",
       "      <td>2</td>\n",
       "    </tr>\n",
       "    <tr>\n",
       "      <th>3</th>\n",
       "      <td>5</td>\n",
       "      <td>No</td>\n",
       "      <td>0</td>\n",
       "      <td>0</td>\n",
       "      <td>26.588914</td>\n",
       "      <td>-0.212728</td>\n",
       "      <td>2</td>\n",
       "      <td>1</td>\n",
       "      <td>4</td>\n",
       "      <td>2</td>\n",
       "    </tr>\n",
       "    <tr>\n",
       "      <th>4</th>\n",
       "      <td>8</td>\n",
       "      <td>Yes</td>\n",
       "      <td>0</td>\n",
       "      <td>3</td>\n",
       "      <td>28.044332</td>\n",
       "      <td>-0.385883</td>\n",
       "      <td>1</td>\n",
       "      <td>1</td>\n",
       "      <td>2</td>\n",
       "      <td>2</td>\n",
       "    </tr>\n",
       "  </tbody>\n",
       "</table>\n",
       "</div>"
      ],
      "text/plain": [
       "   ID Promotion  purchase  V1         V2        V3  V4  V5  V6  V7\n",
       "0   1        No         0   2  30.443518 -1.165083   1   1   3   2\n",
       "1   3        No         0   3  32.159350 -0.645617   2   3   2   2\n",
       "2   4        No         0   2  30.431659  0.133583   1   1   4   2\n",
       "3   5        No         0   0  26.588914 -0.212728   2   1   4   2\n",
       "4   8       Yes         0   3  28.044332 -0.385883   1   1   2   2"
      ]
     },
     "execution_count": 58,
     "metadata": {},
     "output_type": "execute_result"
    }
   ],
   "source": [
    "# load in packages\n",
    "from itertools import combinations\n",
    "\n",
    "from test_results import test_results, score\n",
    "import numpy as np\n",
    "import pandas as pd\n",
    "import scipy as sp\n",
    "import sklearn as sk\n",
    "\n",
    "import matplotlib.pyplot as plt\n",
    "import seaborn as sb\n",
    "import lightgbm as lgb\n",
    "from sklearn.model_selection import KFold\n",
    "from sklearn.metrics import mean_squared_error\n",
    "%matplotlib inline\n",
    "\n",
    "# load in the data\n",
    "train_data = pd.read_csv('./training.csv')\n",
    "test_data = pd.read_csv('Test.csv')\n",
    "train_data.head()"
   ]
  },
  {
   "cell_type": "code",
   "execution_count": 28,
   "metadata": {},
   "outputs": [],
   "source": [
    "# Cells for you to work and document as necessary - \n",
    "# definitely feel free to add more cells as you need"
   ]
  },
  {
   "cell_type": "code",
   "execution_count": 29,
   "metadata": {},
   "outputs": [],
   "source": [
    "y_reg = train_data['purchase']\n",
    "del train_data['purchase']"
   ]
  },
  {
   "cell_type": "code",
   "execution_count": 30,
   "metadata": {},
   "outputs": [],
   "source": [
    "folds = KFold(n_splits=5, shuffle=True, random_state=0)"
   ]
  },
  {
   "cell_type": "code",
   "execution_count": 48,
   "metadata": {},
   "outputs": [
    {
     "name": "stdout",
     "output_type": "stream",
     "text": [
      "Training until validation scores don't improve for 1000 rounds.\n",
      "[100]\tvalid_0's binary_logloss: 0.0630819\n",
      "[200]\tvalid_0's binary_logloss: 0.0629431\n",
      "[300]\tvalid_0's binary_logloss: 0.0628295\n",
      "[400]\tvalid_0's binary_logloss: 0.0627284\n",
      "[500]\tvalid_0's binary_logloss: 0.062644\n",
      "[600]\tvalid_0's binary_logloss: 0.0625783\n",
      "[700]\tvalid_0's binary_logloss: 0.0625234\n",
      "[800]\tvalid_0's binary_logloss: 0.0624775\n",
      "[900]\tvalid_0's binary_logloss: 0.0624452\n",
      "[1000]\tvalid_0's binary_logloss: 0.0624311\n",
      "[1100]\tvalid_0's binary_logloss: 0.0624237\n",
      "[1200]\tvalid_0's binary_logloss: 0.062428\n",
      "[1300]\tvalid_0's binary_logloss: 0.0624358\n",
      "[1400]\tvalid_0's binary_logloss: 0.0624411\n",
      "[1500]\tvalid_0's binary_logloss: 0.0624382\n",
      "[1600]\tvalid_0's binary_logloss: 0.0624402\n",
      "[1700]\tvalid_0's binary_logloss: 0.0624466\n",
      "[1800]\tvalid_0's binary_logloss: 0.0624443\n",
      "[1900]\tvalid_0's binary_logloss: 0.0624409\n",
      "[2000]\tvalid_0's binary_logloss: 0.0624438\n",
      "Early stopping, best iteration is:\n",
      "[1095]\tvalid_0's binary_logloss: 0.0624236\n"
     ]
    },
    {
     "name": "stderr",
     "output_type": "stream",
     "text": [
      "/anaconda3/lib/python3.6/site-packages/sklearn/preprocessing/label.py:151: DeprecationWarning: The truth value of an empty array is ambiguous. Returning False, but in future this will result in an error. Use `array.size > 0` to check that an array is not empty.\n",
      "  if diff:\n",
      "/anaconda3/lib/python3.6/site-packages/sklearn/preprocessing/label.py:151: DeprecationWarning: The truth value of an empty array is ambiguous. Returning False, but in future this will result in an error. Use `array.size > 0` to check that an array is not empty.\n",
      "  if diff:\n"
     ]
    },
    {
     "name": "stdout",
     "output_type": "stream",
     "text": [
      "Training until validation scores don't improve for 1000 rounds.\n",
      "[100]\tvalid_0's binary_logloss: 0.0635364\n",
      "[200]\tvalid_0's binary_logloss: 0.0633593\n",
      "[300]\tvalid_0's binary_logloss: 0.0632417\n",
      "[400]\tvalid_0's binary_logloss: 0.0631558\n",
      "[500]\tvalid_0's binary_logloss: 0.0630912\n",
      "[600]\tvalid_0's binary_logloss: 0.0630442\n",
      "[700]\tvalid_0's binary_logloss: 0.0629976\n",
      "[800]\tvalid_0's binary_logloss: 0.0629576\n",
      "[900]\tvalid_0's binary_logloss: 0.0629285\n",
      "[1000]\tvalid_0's binary_logloss: 0.062905\n",
      "[1100]\tvalid_0's binary_logloss: 0.0628852\n",
      "[1200]\tvalid_0's binary_logloss: 0.0628848\n",
      "[1300]\tvalid_0's binary_logloss: 0.0628831\n",
      "[1400]\tvalid_0's binary_logloss: 0.0628922\n",
      "[1500]\tvalid_0's binary_logloss: 0.0628797\n",
      "[1600]\tvalid_0's binary_logloss: 0.0628752\n",
      "[1700]\tvalid_0's binary_logloss: 0.0628673\n",
      "[1800]\tvalid_0's binary_logloss: 0.0628691\n",
      "[1900]\tvalid_0's binary_logloss: 0.0628716\n",
      "[2000]\tvalid_0's binary_logloss: 0.0628771\n",
      "[2100]\tvalid_0's binary_logloss: 0.0628834\n",
      "[2200]\tvalid_0's binary_logloss: 0.0629019\n",
      "[2300]\tvalid_0's binary_logloss: 0.0629133\n",
      "[2400]\tvalid_0's binary_logloss: 0.0629261\n",
      "[2500]\tvalid_0's binary_logloss: 0.0629444\n",
      "[2600]\tvalid_0's binary_logloss: 0.062943\n",
      "[2700]\tvalid_0's binary_logloss: 0.0629406\n",
      "Early stopping, best iteration is:\n",
      "[1718]\tvalid_0's binary_logloss: 0.0628658\n"
     ]
    },
    {
     "name": "stderr",
     "output_type": "stream",
     "text": [
      "/anaconda3/lib/python3.6/site-packages/sklearn/preprocessing/label.py:151: DeprecationWarning: The truth value of an empty array is ambiguous. Returning False, but in future this will result in an error. Use `array.size > 0` to check that an array is not empty.\n",
      "  if diff:\n",
      "/anaconda3/lib/python3.6/site-packages/sklearn/preprocessing/label.py:151: DeprecationWarning: The truth value of an empty array is ambiguous. Returning False, but in future this will result in an error. Use `array.size > 0` to check that an array is not empty.\n",
      "  if diff:\n"
     ]
    },
    {
     "name": "stdout",
     "output_type": "stream",
     "text": [
      "Training until validation scores don't improve for 1000 rounds.\n",
      "[100]\tvalid_0's binary_logloss: 0.0633535\n",
      "[200]\tvalid_0's binary_logloss: 0.063235\n",
      "[300]\tvalid_0's binary_logloss: 0.0631174\n",
      "[400]\tvalid_0's binary_logloss: 0.063042\n",
      "[500]\tvalid_0's binary_logloss: 0.062972\n",
      "[600]\tvalid_0's binary_logloss: 0.0629182\n",
      "[700]\tvalid_0's binary_logloss: 0.0628812\n",
      "[800]\tvalid_0's binary_logloss: 0.0628558\n",
      "[900]\tvalid_0's binary_logloss: 0.062842\n",
      "[1000]\tvalid_0's binary_logloss: 0.0628426\n",
      "[1100]\tvalid_0's binary_logloss: 0.0628528\n",
      "[1200]\tvalid_0's binary_logloss: 0.0628689\n",
      "[1300]\tvalid_0's binary_logloss: 0.0628854\n",
      "[1400]\tvalid_0's binary_logloss: 0.0629056\n",
      "[1500]\tvalid_0's binary_logloss: 0.0629236\n",
      "[1600]\tvalid_0's binary_logloss: 0.0629381\n",
      "[1700]\tvalid_0's binary_logloss: 0.06295\n",
      "[1800]\tvalid_0's binary_logloss: 0.0629662\n",
      "[1900]\tvalid_0's binary_logloss: 0.0629893\n",
      "Early stopping, best iteration is:\n",
      "[955]\tvalid_0's binary_logloss: 0.0628375\n"
     ]
    },
    {
     "name": "stderr",
     "output_type": "stream",
     "text": [
      "/anaconda3/lib/python3.6/site-packages/sklearn/preprocessing/label.py:151: DeprecationWarning: The truth value of an empty array is ambiguous. Returning False, but in future this will result in an error. Use `array.size > 0` to check that an array is not empty.\n",
      "  if diff:\n",
      "/anaconda3/lib/python3.6/site-packages/sklearn/preprocessing/label.py:151: DeprecationWarning: The truth value of an empty array is ambiguous. Returning False, but in future this will result in an error. Use `array.size > 0` to check that an array is not empty.\n",
      "  if diff:\n"
     ]
    },
    {
     "name": "stdout",
     "output_type": "stream",
     "text": [
      "Training until validation scores don't improve for 1000 rounds.\n",
      "[100]\tvalid_0's binary_logloss: 0.0725217\n",
      "[200]\tvalid_0's binary_logloss: 0.0724616\n",
      "[300]\tvalid_0's binary_logloss: 0.0724075\n",
      "[400]\tvalid_0's binary_logloss: 0.072362\n",
      "[500]\tvalid_0's binary_logloss: 0.0723356\n",
      "[600]\tvalid_0's binary_logloss: 0.0723331\n",
      "[700]\tvalid_0's binary_logloss: 0.0723322\n",
      "[800]\tvalid_0's binary_logloss: 0.0723457\n",
      "[900]\tvalid_0's binary_logloss: 0.0723567\n",
      "[1000]\tvalid_0's binary_logloss: 0.0723765\n",
      "[1100]\tvalid_0's binary_logloss: 0.0723741\n",
      "[1200]\tvalid_0's binary_logloss: 0.0723795\n",
      "[1300]\tvalid_0's binary_logloss: 0.0724021\n",
      "[1400]\tvalid_0's binary_logloss: 0.0724331\n",
      "[1500]\tvalid_0's binary_logloss: 0.0724448\n",
      "[1600]\tvalid_0's binary_logloss: 0.072454\n",
      "Early stopping, best iteration is:\n",
      "[676]\tvalid_0's binary_logloss: 0.0723297\n"
     ]
    },
    {
     "name": "stderr",
     "output_type": "stream",
     "text": [
      "/anaconda3/lib/python3.6/site-packages/sklearn/preprocessing/label.py:151: DeprecationWarning: The truth value of an empty array is ambiguous. Returning False, but in future this will result in an error. Use `array.size > 0` to check that an array is not empty.\n",
      "  if diff:\n",
      "/anaconda3/lib/python3.6/site-packages/sklearn/preprocessing/label.py:151: DeprecationWarning: The truth value of an empty array is ambiguous. Returning False, but in future this will result in an error. Use `array.size > 0` to check that an array is not empty.\n",
      "  if diff:\n"
     ]
    },
    {
     "name": "stdout",
     "output_type": "stream",
     "text": [
      "Training until validation scores don't improve for 1000 rounds.\n",
      "[100]\tvalid_0's binary_logloss: 0.068448\n",
      "[200]\tvalid_0's binary_logloss: 0.0682716\n",
      "[300]\tvalid_0's binary_logloss: 0.0681221\n",
      "[400]\tvalid_0's binary_logloss: 0.0680098\n",
      "[500]\tvalid_0's binary_logloss: 0.0679078\n",
      "[600]\tvalid_0's binary_logloss: 0.0678172\n",
      "[700]\tvalid_0's binary_logloss: 0.0677522\n",
      "[800]\tvalid_0's binary_logloss: 0.0676998\n",
      "[900]\tvalid_0's binary_logloss: 0.0676688\n",
      "[1000]\tvalid_0's binary_logloss: 0.067646\n",
      "[1100]\tvalid_0's binary_logloss: 0.0676295\n",
      "[1200]\tvalid_0's binary_logloss: 0.0676233\n",
      "[1300]\tvalid_0's binary_logloss: 0.0676163\n",
      "[1400]\tvalid_0's binary_logloss: 0.0676181\n",
      "[1500]\tvalid_0's binary_logloss: 0.0676178\n",
      "[1600]\tvalid_0's binary_logloss: 0.0676149\n",
      "[1700]\tvalid_0's binary_logloss: 0.0676126\n",
      "[1800]\tvalid_0's binary_logloss: 0.0675854\n",
      "[1900]\tvalid_0's binary_logloss: 0.0675524\n",
      "[2000]\tvalid_0's binary_logloss: 0.0675472\n",
      "[2100]\tvalid_0's binary_logloss: 0.0675669\n",
      "[2200]\tvalid_0's binary_logloss: 0.0675838\n",
      "[2300]\tvalid_0's binary_logloss: 0.067597\n",
      "[2400]\tvalid_0's binary_logloss: 0.067617\n",
      "[2500]\tvalid_0's binary_logloss: 0.0676331\n",
      "[2600]\tvalid_0's binary_logloss: 0.0676353\n",
      "[2700]\tvalid_0's binary_logloss: 0.0676364\n",
      "[2800]\tvalid_0's binary_logloss: 0.0676438\n",
      "[2900]\tvalid_0's binary_logloss: 0.067663\n",
      "Early stopping, best iteration is:\n",
      "[1954]\tvalid_0's binary_logloss: 0.0675422\n"
     ]
    },
    {
     "name": "stderr",
     "output_type": "stream",
     "text": [
      "/anaconda3/lib/python3.6/site-packages/sklearn/preprocessing/label.py:151: DeprecationWarning: The truth value of an empty array is ambiguous. Returning False, but in future this will result in an error. Use `array.size > 0` to check that an array is not empty.\n",
      "  if diff:\n",
      "/anaconda3/lib/python3.6/site-packages/sklearn/preprocessing/label.py:151: DeprecationWarning: The truth value of an empty array is ambiguous. Returning False, but in future this will result in an error. Use `array.size > 0` to check that an array is not empty.\n",
      "  if diff:\n"
     ]
    }
   ],
   "source": [
    "importances = pd.DataFrame()\n",
    "oof_reg_preds = np.zeros(train_data.shape[0])\n",
    "sub_reg_preds = np.zeros(test_data.shape[0])\n",
    "train_features = train_data.columns[-7:]\n",
    "for fold_, (trn_, val_) in enumerate(folds.split(train_data)):\n",
    "    trn_x, trn_y = train_data[train_features].iloc[trn_], y_reg.iloc[trn_]\n",
    "    val_x, val_y = train_data[train_features].iloc[val_], y_reg.iloc[val_]\n",
    "    reg = lgb.LGBMClassifier(\n",
    "        learning_rate=0.001,\n",
    "        n_estimators=10000,\n",
    "    \n",
    "    )\n",
    "    reg.fit(\n",
    "        trn_x, trn_y,\n",
    "        eval_set=[(val_x, val_y)],\n",
    "        early_stopping_rounds=1000,\n",
    "        verbose=100\n",
    "    )\n",
    "    imp_df = pd.DataFrame()\n",
    "    imp_df['feature'] = train_features\n",
    "    imp_df['gain'] = reg.booster_.feature_importance(importance_type='gain')\n",
    "    \n",
    "    imp_df['fold'] = fold_ + 1\n",
    "    importances = pd.concat([importances, imp_df], axis=0, sort=False)\n",
    "    \n",
    "    oof_reg_preds[val_] = reg.predict(val_x, num_iteration=reg.best_iteration_)\n",
    "    _preds = reg.predict(test_data[train_features], num_iteration=reg.best_iteration_)\n",
    "    sub_reg_preds += np.expm1(_preds) / 5"
   ]
  },
  {
   "cell_type": "code",
   "execution_count": 51,
   "metadata": {},
   "outputs": [
    {
     "data": {
      "text/plain": [
       "0"
      ]
     },
     "execution_count": 51,
     "metadata": {},
     "output_type": "execute_result"
    }
   ],
   "source": [
    "np.sum(sub_reg_preds!=0)"
   ]
  },
  {
   "cell_type": "code",
   "execution_count": 42,
   "metadata": {},
   "outputs": [],
   "source": [
    "def promotion_strategy(df):\n",
    "    '''\n",
    "    INPUT \n",
    "    df - a dataframe with *only* the columns V1 - V7 (same as train_data)\n",
    "\n",
    "    OUTPUT\n",
    "    promotion_df - np.array with the values\n",
    "                   'Yes' or 'No' related to whether or not an \n",
    "                   individual should recieve a promotion \n",
    "                   should be the length of df.shape[0]\n",
    "                \n",
    "    Ex:\n",
    "    INPUT: df\n",
    "    \n",
    "    V1\tV2\t  V3\tV4\tV5\tV6\tV7\n",
    "    2\t30\t-1.1\t1\t1\t3\t2\n",
    "    3\t32\t-0.6\t2\t3\t2\t2\n",
    "    2\t30\t0.13\t1\t1\t4\t2\n",
    "    \n",
    "    OUTPUT: promotion\n",
    "    \n",
    "    array(['Yes', 'Yes', 'No'])\n",
    "    indicating the first two users would recieve the promotion and \n",
    "    the last should not.\n",
    "    '''\n",
    "    \n",
    "    \n",
    "    \n",
    "    return sub_reg_preds"
   ]
  },
  {
   "cell_type": "code",
   "execution_count": 43,
   "metadata": {},
   "outputs": [
    {
     "name": "stdout",
     "output_type": "stream",
     "text": [
      "0\n",
      "0\n",
      "0\n",
      "0\n",
      "Nice job!  See how well your strategy worked on our test data below!\n",
      "\n",
      "Your irr with this strategy is nan.\n",
      "\n",
      "Your nir with this strategy is 0.00.\n",
      "We came up with a model with an irr of 0.0188 and an nir of 189.45 on the test set.\n",
      "\n",
      " How did you do?\n"
     ]
    },
    {
     "name": "stderr",
     "output_type": "stream",
     "text": [
      "/Users/shihaowen/Documents/Udacity-DSND/Experimental Design & Recommandations/Starbucks Project/test_results.py:22: FutureWarning: elementwise comparison failed; returning scalar instead, but in the future will perform elementwise comparison\n",
      "  score_df = test_data.iloc[np.where(promos == 'Yes')]\n",
      "/Users/shihaowen/Documents/Udacity-DSND/Experimental Design & Recommandations/Starbucks Project/test_results.py:13: RuntimeWarning: invalid value encountered in long_scalars\n",
      "  irr = n_treat_purch / n_treat - n_ctrl_purch / n_control\n"
     ]
    },
    {
     "data": {
      "text/plain": [
       "(nan, 0.0)"
      ]
     },
     "execution_count": 43,
     "metadata": {},
     "output_type": "execute_result"
    }
   ],
   "source": [
    "# This will test your results, and provide you back some information \n",
    "# on how well your promotion_strategy will work in practice\n",
    "\n",
    "test_results(promotion_strategy)"
   ]
  },
  {
   "cell_type": "code",
   "execution_count": null,
   "metadata": {},
   "outputs": [],
   "source": []
  }
 ],
 "metadata": {
  "kernelspec": {
   "display_name": "Python 3",
   "language": "python",
   "name": "python3"
  },
  "language_info": {
   "codemirror_mode": {
    "name": "ipython",
    "version": 3
   },
   "file_extension": ".py",
   "mimetype": "text/x-python",
   "name": "python",
   "nbconvert_exporter": "python",
   "pygments_lexer": "ipython3",
   "version": "3.6.5"
  }
 },
 "nbformat": 4,
 "nbformat_minor": 2
}
